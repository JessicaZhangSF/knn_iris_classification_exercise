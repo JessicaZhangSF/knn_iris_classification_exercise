{
 "cells": [
  {
   "cell_type": "markdown",
   "metadata": {
    "slideshow": {
     "slide_type": "slide"
    }
   },
   "source": [
    "\n",
    "  ## K Nearest Neighbors Exercise"
   ]
  },
  {
   "cell_type": "markdown",
   "metadata": {},
   "source": [
    "Import pandas and numpy packages"
   ]
  },
  {
   "cell_type": "code",
   "execution_count": 2,
   "metadata": {
    "slideshow": {
     "slide_type": "slide"
    }
   },
   "outputs": [],
   "source": [
    "import numpy as np\n",
    "import pandas as pd"
   ]
  },
  {
   "cell_type": "markdown",
   "metadata": {},
   "source": [
    "Read the iris CSV file"
   ]
  },
  {
   "cell_type": "code",
   "execution_count": 3,
   "metadata": {},
   "outputs": [
    {
     "data": {
      "text/html": [
       "<div>\n",
       "<style scoped>\n",
       "    .dataframe tbody tr th:only-of-type {\n",
       "        vertical-align: middle;\n",
       "    }\n",
       "\n",
       "    .dataframe tbody tr th {\n",
       "        vertical-align: top;\n",
       "    }\n",
       "\n",
       "    .dataframe thead th {\n",
       "        text-align: right;\n",
       "    }\n",
       "</style>\n",
       "<table border=\"1\" class=\"dataframe\">\n",
       "  <thead>\n",
       "    <tr style=\"text-align: right;\">\n",
       "      <th></th>\n",
       "      <th>sepal_length</th>\n",
       "      <th>sepal_width</th>\n",
       "      <th>petal_length</th>\n",
       "      <th>petal_width</th>\n",
       "      <th>species</th>\n",
       "    </tr>\n",
       "  </thead>\n",
       "  <tbody>\n",
       "    <tr>\n",
       "      <th>0</th>\n",
       "      <td>5.1</td>\n",
       "      <td>3.5</td>\n",
       "      <td>1.4</td>\n",
       "      <td>0.2</td>\n",
       "      <td>0</td>\n",
       "    </tr>\n",
       "    <tr>\n",
       "      <th>1</th>\n",
       "      <td>4.9</td>\n",
       "      <td>3.0</td>\n",
       "      <td>1.4</td>\n",
       "      <td>0.2</td>\n",
       "      <td>0</td>\n",
       "    </tr>\n",
       "    <tr>\n",
       "      <th>2</th>\n",
       "      <td>4.7</td>\n",
       "      <td>3.2</td>\n",
       "      <td>1.3</td>\n",
       "      <td>0.2</td>\n",
       "      <td>0</td>\n",
       "    </tr>\n",
       "    <tr>\n",
       "      <th>3</th>\n",
       "      <td>4.6</td>\n",
       "      <td>3.1</td>\n",
       "      <td>1.5</td>\n",
       "      <td>0.2</td>\n",
       "      <td>0</td>\n",
       "    </tr>\n",
       "    <tr>\n",
       "      <th>4</th>\n",
       "      <td>5.0</td>\n",
       "      <td>3.6</td>\n",
       "      <td>1.4</td>\n",
       "      <td>0.2</td>\n",
       "      <td>0</td>\n",
       "    </tr>\n",
       "  </tbody>\n",
       "</table>\n",
       "</div>"
      ],
      "text/plain": [
       "   sepal_length  sepal_width  petal_length  petal_width  species\n",
       "0           5.1          3.5           1.4          0.2        0\n",
       "1           4.9          3.0           1.4          0.2        0\n",
       "2           4.7          3.2           1.3          0.2        0\n",
       "3           4.6          3.1           1.5          0.2        0\n",
       "4           5.0          3.6           1.4          0.2        0"
      ]
     },
     "execution_count": 3,
     "metadata": {},
     "output_type": "execute_result"
    }
   ],
   "source": [
    "data = pd.read_csv('iris.csv')\n",
    "data.head()"
   ]
  },
  {
   "cell_type": "markdown",
   "metadata": {},
   "source": [
    "Explore the data"
   ]
  },
  {
   "cell_type": "code",
   "execution_count": 4,
   "metadata": {},
   "outputs": [
    {
     "name": "stdout",
     "output_type": "stream",
     "text": [
      "              count      mean       std  min  25%   50%  75%  max\n",
      "sepal_length  150.0  5.843333  0.828066  4.3  5.1  5.80  6.4  7.9\n",
      "sepal_width   150.0  3.054000  0.433594  2.0  2.8  3.00  3.3  4.4\n",
      "petal_length  150.0  3.758667  1.764420  1.0  1.6  4.35  5.1  6.9\n",
      "petal_width   150.0  1.198667  0.763161  0.1  0.3  1.30  1.8  2.5\n",
      "species       150.0  1.000000  0.819232  0.0  0.0  1.00  2.0  2.0\n"
     ]
    }
   ],
   "source": [
    "print(data.describe().T)"
   ]
  },
  {
   "cell_type": "markdown",
   "metadata": {},
   "source": [
    "Create two variables for features and target.  Convert them into values."
   ]
  },
  {
   "cell_type": "code",
   "execution_count": 25,
   "metadata": {},
   "outputs": [],
   "source": [
    "features = data[['sepal_length','sepal_width', 'petal_length', 'petal_width']].values\n",
    "target = data.species.values"
   ]
  },
  {
   "cell_type": "markdown",
   "metadata": {},
   "source": [
    "Scikit-learn has a function to split data into training and testing sets"
   ]
  },
  {
   "cell_type": "code",
   "execution_count": 11,
   "metadata": {},
   "outputs": [],
   "source": [
    "from sklearn.model_selection import train_test_split"
   ]
  },
  {
   "cell_type": "markdown",
   "metadata": {},
   "source": [
    "Apply train_test_split to sample data"
   ]
  },
  {
   "cell_type": "code",
   "execution_count": 9,
   "metadata": {},
   "outputs": [],
   "source": [
    "conditions = [['M',67],['Tu',74],['W',80],['Th',68],['F',78]]\n",
    "sales = [240,360,700,320,1100]"
   ]
  },
  {
   "cell_type": "code",
   "execution_count": 12,
   "metadata": {},
   "outputs": [],
   "source": [
    "f_train, f_test, t_train, t_test = train_test_split(\n",
    "        conditions, sales, test_size=0.20)"
   ]
  },
  {
   "cell_type": "markdown",
   "metadata": {},
   "source": [
    "View results of train_test_split "
   ]
  },
  {
   "cell_type": "code",
   "execution_count": 13,
   "metadata": {},
   "outputs": [
    {
     "name": "stdout",
     "output_type": "stream",
     "text": [
      "Training Set\n",
      "[['W', 80], ['F', 78], ['Th', 68], ['M', 67]]\n",
      "[700, 1100, 320, 240] \n",
      "\n",
      "\n",
      "Test Set\n",
      "[['Tu', 74]]\n",
      "[360]\n"
     ]
    }
   ],
   "source": [
    "print('Training Set')\n",
    "print(f_train)\n",
    "print(t_train,'\\n\\n')\n",
    "print('Test Set')\n",
    "print(f_test)\n",
    "print(t_test)"
   ]
  },
  {
   "cell_type": "markdown",
   "metadata": {},
   "source": [
    "Split the iris data into training set and test set"
   ]
  },
  {
   "cell_type": "code",
   "execution_count": 26,
   "metadata": {},
   "outputs": [],
   "source": [
    "features_train, features_test, target_train, target_test = train_test_split(\n",
    "        features, target, test_size=0.20)"
   ]
  },
  {
   "cell_type": "code",
   "execution_count": 27,
   "metadata": {},
   "outputs": [
    {
     "name": "stdout",
     "output_type": "stream",
     "text": [
      "(120, 4)\n",
      "(120,)\n",
      "(30, 4)\n",
      "(30,)\n"
     ]
    }
   ],
   "source": [
    "print(features_train.shape)\n",
    "print(target_train.shape)\n",
    "\n",
    "print(features_test.shape)\n",
    "print(target_test.shape)"
   ]
  },
  {
   "cell_type": "markdown",
   "metadata": {},
   "source": [
    "Import the K Nearest Neighbors classifier from scikit-learn"
   ]
  },
  {
   "cell_type": "code",
   "execution_count": 28,
   "metadata": {},
   "outputs": [],
   "source": [
    "from sklearn.neighbors import KNeighborsClassifier"
   ]
  },
  {
   "cell_type": "markdown",
   "metadata": {},
   "source": [
    "Train the KNN classifier"
   ]
  },
  {
   "cell_type": "code",
   "execution_count": 29,
   "metadata": {},
   "outputs": [],
   "source": [
    "iris_model = KNeighborsClassifier(5).fit(features_train, target_train)"
   ]
  },
  {
   "cell_type": "markdown",
   "metadata": {},
   "source": [
    "Compare predictions with actual results"
   ]
  },
  {
   "cell_type": "code",
   "execution_count": 31,
   "metadata": {},
   "outputs": [
    {
     "name": "stdout",
     "output_type": "stream",
     "text": [
      "[2 1 2 2 0 2 1 2 0 1 0 0 0 1 2 2 1 2 2 0 2 1 1 2 0 0 1 0 2 2]\n"
     ]
    }
   ],
   "source": [
    "print(iris_model.predict(features_test))"
   ]
  },
  {
   "cell_type": "markdown",
   "metadata": {},
   "source": [
    "Predict probabilities"
   ]
  },
  {
   "cell_type": "code",
   "execution_count": 32,
   "metadata": {},
   "outputs": [
    {
     "name": "stdout",
     "output_type": "stream",
     "text": [
      "[2 1 2 2 0 2 1 2 0 1 0 0 0 1 2 2 1 2 1 0 2 1 1 2 0 0 1 0 2 2]\n"
     ]
    }
   ],
   "source": [
    "print(target_test)"
   ]
  },
  {
   "cell_type": "markdown",
   "metadata": {},
   "source": [
    "Score the model"
   ]
  },
  {
   "cell_type": "code",
   "execution_count": 35,
   "metadata": {},
   "outputs": [
    {
     "data": {
      "text/plain": [
       "array([[0. , 0. , 1. ],\n",
       "       [0. , 1. , 0. ],\n",
       "       [0. , 0. , 1. ],\n",
       "       [0. , 0. , 1. ],\n",
       "       [1. , 0. , 0. ],\n",
       "       [0. , 0. , 1. ],\n",
       "       [0. , 1. , 0. ],\n",
       "       [0. , 0. , 1. ],\n",
       "       [1. , 0. , 0. ],\n",
       "       [0. , 1. , 0. ],\n",
       "       [1. , 0. , 0. ],\n",
       "       [1. , 0. , 0. ],\n",
       "       [1. , 0. , 0. ],\n",
       "       [0. , 0.8, 0.2],\n",
       "       [0. , 0. , 1. ],\n",
       "       [0. , 0. , 1. ],\n",
       "       [0. , 1. , 0. ],\n",
       "       [0. , 0. , 1. ],\n",
       "       [0. , 0.2, 0.8],\n",
       "       [1. , 0. , 0. ],\n",
       "       [0. , 0. , 1. ],\n",
       "       [0. , 1. , 0. ],\n",
       "       [0. , 1. , 0. ],\n",
       "       [0. , 0. , 1. ],\n",
       "       [1. , 0. , 0. ],\n",
       "       [1. , 0. , 0. ],\n",
       "       [0. , 0.8, 0.2],\n",
       "       [1. , 0. , 0. ],\n",
       "       [0. , 0. , 1. ],\n",
       "       [0. , 0. , 1. ]])"
      ]
     },
     "execution_count": 35,
     "metadata": {},
     "output_type": "execute_result"
    }
   ],
   "source": [
    "iris_model.predict_proba(features_test)"
   ]
  },
  {
   "cell_type": "markdown",
   "metadata": {},
   "source": [
    "## K-Folds Cross-Validation"
   ]
  },
  {
   "cell_type": "markdown",
   "metadata": {},
   "source": [
    "Remember how to index numpy arrays with indices?"
   ]
  },
  {
   "cell_type": "code",
   "execution_count": 38,
   "metadata": {},
   "outputs": [],
   "source": [
    "conditions = np.array([['M',67],['Tu',74],['W',80],['Th',68],['F',78]])\n",
    "sales = np.array([240,360,700,320,1100])\n",
    "indices = [4,0,2]"
   ]
  },
  {
   "cell_type": "code",
   "execution_count": 42,
   "metadata": {},
   "outputs": [
    {
     "data": {
      "text/html": [
       "<div>\n",
       "<style scoped>\n",
       "    .dataframe tbody tr th:only-of-type {\n",
       "        vertical-align: middle;\n",
       "    }\n",
       "\n",
       "    .dataframe tbody tr th {\n",
       "        vertical-align: top;\n",
       "    }\n",
       "\n",
       "    .dataframe thead th {\n",
       "        text-align: right;\n",
       "    }\n",
       "</style>\n",
       "<table border=\"1\" class=\"dataframe\">\n",
       "  <thead>\n",
       "    <tr style=\"text-align: right;\">\n",
       "      <th></th>\n",
       "      <th>0</th>\n",
       "      <th>1</th>\n",
       "    </tr>\n",
       "  </thead>\n",
       "  <tbody>\n",
       "    <tr>\n",
       "      <th>0</th>\n",
       "      <td>[F, 78]</td>\n",
       "      <td>1100</td>\n",
       "    </tr>\n",
       "    <tr>\n",
       "      <th>1</th>\n",
       "      <td>[M, 67]</td>\n",
       "      <td>240</td>\n",
       "    </tr>\n",
       "    <tr>\n",
       "      <th>2</th>\n",
       "      <td>[W, 80]</td>\n",
       "      <td>700</td>\n",
       "    </tr>\n",
       "  </tbody>\n",
       "</table>\n",
       "</div>"
      ],
      "text/plain": [
       "         0     1\n",
       "0  [F, 78]  1100\n",
       "1  [M, 67]   240\n",
       "2  [W, 80]   700"
      ]
     },
     "execution_count": 42,
     "metadata": {},
     "output_type": "execute_result"
    }
   ],
   "source": [
    "pd.DataFrame(zip(conditions[indices], sales[indices]))"
   ]
  },
  {
   "cell_type": "markdown",
   "metadata": {},
   "source": [
    "Import the KFold function from scikit-learn"
   ]
  },
  {
   "cell_type": "code",
   "execution_count": 43,
   "metadata": {},
   "outputs": [],
   "source": [
    "from sklearn.model_selection import KFold"
   ]
  },
  {
   "cell_type": "markdown",
   "metadata": {},
   "source": [
    "KFold function creates indices for separating training and test sets"
   ]
  },
  {
   "cell_type": "code",
   "execution_count": 44,
   "metadata": {
    "scrolled": true
   },
   "outputs": [
    {
     "name": "stdout",
     "output_type": "stream",
     "text": [
      "KFold(n_splits=5, random_state=None, shuffle=True)\n"
     ]
    }
   ],
   "source": [
    "k_fold_indices = KFold(5, shuffle=True)\n",
    "print(k_fold_indices)"
   ]
  },
  {
   "cell_type": "markdown",
   "metadata": {},
   "source": [
    "Let's see what is in the k_fold_indices"
   ]
  },
  {
   "cell_type": "code",
   "execution_count": 46,
   "metadata": {},
   "outputs": [
    {
     "name": "stdout",
     "output_type": "stream",
     "text": [
      "[0 1 3 4] [2]\n",
      "[0 2 3 4] [1]\n",
      "[0 1 2 3] [4]\n",
      "[1 2 3 4] [0]\n",
      "[0 1 2 4] [3]\n"
     ]
    }
   ],
   "source": [
    "for train_indices,test_indices in k_fold_indices.split(conditions):\n",
    "    print(train_indices, test_indices)"
   ]
  },
  {
   "cell_type": "markdown",
   "metadata": {},
   "source": [
    "Let's use the indices to index values in an array."
   ]
  },
  {
   "cell_type": "code",
   "execution_count": 47,
   "metadata": {
    "scrolled": true
   },
   "outputs": [
    {
     "name": "stdout",
     "output_type": "stream",
     "text": [
      "Training Set\n",
      "[['M' '67']\n",
      " ['Tu' '74']\n",
      " ['Th' '68']\n",
      " ['F' '78']]\n",
      "[ 240  360  320 1100]\n",
      "Test Set\n",
      "[['W' '80']]\n",
      "[700]\n",
      "\n",
      "Training Set\n",
      "[['M' '67']\n",
      " ['Tu' '74']\n",
      " ['W' '80']\n",
      " ['Th' '68']]\n",
      "[240 360 700 320]\n",
      "Test Set\n",
      "[['F' '78']]\n",
      "[1100]\n",
      "\n",
      "Training Set\n",
      "[['M' '67']\n",
      " ['Tu' '74']\n",
      " ['W' '80']\n",
      " ['F' '78']]\n",
      "[ 240  360  700 1100]\n",
      "Test Set\n",
      "[['Th' '68']]\n",
      "[320]\n",
      "\n",
      "Training Set\n",
      "[['M' '67']\n",
      " ['W' '80']\n",
      " ['Th' '68']\n",
      " ['F' '78']]\n",
      "[ 240  700  320 1100]\n",
      "Test Set\n",
      "[['Tu' '74']]\n",
      "[360]\n",
      "\n",
      "Training Set\n",
      "[['Tu' '74']\n",
      " ['W' '80']\n",
      " ['Th' '68']\n",
      " ['F' '78']]\n",
      "[ 360  700  320 1100]\n",
      "Test Set\n",
      "[['M' '67']]\n",
      "[240]\n",
      "\n"
     ]
    }
   ],
   "source": [
    "for train_indices,test_indices in k_fold_indices.split(conditions,sales):\n",
    "    print('Training Set')\n",
    "    print(conditions[train_indices])\n",
    "    print(sales[train_indices])\n",
    "    print('Test Set')\n",
    "    print(conditions[test_indices])\n",
    "    print(sales[test_indices]) \n",
    "    print()"
   ]
  },
  {
   "cell_type": "markdown",
   "metadata": {},
   "source": [
    "Function for calculating cross-validation"
   ]
  },
  {
   "cell_type": "code",
   "execution_count": 48,
   "metadata": {},
   "outputs": [],
   "source": [
    "from sklearn.model_selection import cross_val_score"
   ]
  },
  {
   "cell_type": "code",
   "execution_count": 49,
   "metadata": {},
   "outputs": [],
   "source": [
    "# cross validation function with average score\n",
    "def cross_validate(features, target, classifier, k_fold=10, r_state=None) :\n",
    "    k_fold_indices = KFold(k_fold,shuffle=True, random_state=r_state)\n",
    "    scores = cross_val_score(classifier, features, target, cv=k_fold_indices)\n",
    "    return scores.mean()"
   ]
  },
  {
   "cell_type": "markdown",
   "metadata": {},
   "source": [
    "Test the cross_validate function with different numbers of neighbors"
   ]
  },
  {
   "cell_type": "code",
   "execution_count": 51,
   "metadata": {},
   "outputs": [
    {
     "name": "stdout",
     "output_type": "stream",
     "text": [
      "0.96\n"
     ]
    }
   ],
   "source": [
    "\n",
    "print(cross_validate(features,target,KNeighborsClassifier(3),10,0))"
   ]
  },
  {
   "cell_type": "markdown",
   "metadata": {},
   "source": [
    "## Exercise\n",
    "#### 1. Load the clean_data.csv as a DataFrame"
   ]
  },
  {
   "cell_type": "code",
   "execution_count": 52,
   "metadata": {},
   "outputs": [],
   "source": [
    "exe_data = pd.read_csv('clean_data.csv')"
   ]
  },
  {
   "cell_type": "markdown",
   "metadata": {},
   "source": [
    "#### 2. Separate the data into features (age_all, is_female, pclass, embarked dummy variables, fare) and target (Note: Make sure you convert the data to a numpy array by typing .values at end of DataFrame)"
   ]
  },
  {
   "cell_type": "code",
   "execution_count": 76,
   "metadata": {},
   "outputs": [],
   "source": [
    "exe_data_features = exe_data[['Age_all','Is_female','Pclass','Embarked_C','Embarked_Q','Embarked_S', 'Fare']].values\n",
    "exe_data_target = exe_data.Survived.values"
   ]
  },
  {
   "cell_type": "markdown",
   "metadata": {},
   "source": [
    "#### 3. Build a KNN model and test the accuracy of the model using kfold cross-validation"
   ]
  },
  {
   "cell_type": "code",
   "execution_count": 77,
   "metadata": {},
   "outputs": [
    {
     "name": "stdout",
     "output_type": "stream",
     "text": [
      "0.709350811485643\n"
     ]
    }
   ],
   "source": [
    "from sklearn.model_selection import cross_val_score\n",
    "from sklearn.model_selection import train_test_split\n",
    "from sklearn.model_selection import KFold\n",
    "from sklearn.neighbors import KNeighborsClassifier\n",
    "\n",
    "def cross_validate(features,target,classifier,k_fold=10,r_state=None):\n",
    "    k_fold_indices=KFold(k_fold,shuffle=True,random_state=r_state)\n",
    "    scores=cross_val_score(classifier,features,target,cv=k_fold_indices)\n",
    "    return scores.mean()\n",
    "\n",
    "\n",
    "print(cross_validate(exe_data_features,exe_data_target,KNeighborsClassifier(n_neighbors=3, weights = 'distance'),10,0))"
   ]
  },
  {
   "cell_type": "markdown",
   "metadata": {},
   "source": [
    "#### 4. Try different numbers of neighbors and vary weights (uniform and distance) using a for loop"
   ]
  },
  {
   "cell_type": "code",
   "execution_count": 78,
   "metadata": {},
   "outputs": [
    {
     "name": "stdout",
     "output_type": "stream",
     "text": [
      "0.709350811485643\n",
      "0.709350811485643\n",
      "0.709350811485643\n",
      "0.709350811485643\n",
      "0.709350811485643\n"
     ]
    }
   ],
   "source": [
    "#fold = [[5,10]]\n",
    "\n",
    "for f in range (5,10):\n",
    "     print(cross_validate(exe_data_features,exe_data_target,KNeighborsClassifier(n_neighbors=3,weights = 'distance'),10,0))   "
   ]
  },
  {
   "cell_type": "code",
   "execution_count": 79,
   "metadata": {},
   "outputs": [
    {
     "name": "stdout",
     "output_type": "stream",
     "text": [
      "0.6779275905118602 0.6779275905118602\n",
      "0.6846566791510612 0.6700998751560548\n",
      "0.709350811485643 0.7003995006242196\n",
      "0.7015106117353309 0.6891760299625469\n",
      "0.7104868913857677 0.6857677902621722\n",
      "0.7082147315855181 0.6913607990012485\n",
      "0.7138451935081148 0.7059300873907616\n",
      "0.7272534332084893 0.7014357053682896\n",
      "0.7283895131086141 0.7205118601747815\n",
      "0.7261298377028714 0.7093133583021224\n",
      "0.7227715355805244 0.7126591760299626\n",
      "0.7227590511860176 0.7149063670411986\n",
      "0.7182771535580524 0.7160049937578028\n",
      "0.7272659176029963 0.7160424469413234\n",
      "0.7216354556803996 0.7171285892634207\n",
      "0.7227840199750313 0.7092883895131086\n",
      "0.7160424469413234 0.7025468164794008\n",
      "0.7250312109862672 0.7137952559300873\n",
      "0.7261423220973782 0.7171285892634207\n",
      "0.7216479400749063 0.7171535580524344\n",
      "0.7238701622971286 0.7137702871410736\n",
      "0.7261173533083645 0.7081647940074907\n",
      "0.7283520599250937 0.7103995006242196\n",
      "0.7261298377028714 0.7126466916354557\n",
      "0.7317103620474408 0.7070287141073659\n",
      "0.7328339575530587 0.7025717852684146\n",
      "0.7362047440699128 0.7003245942571785\n",
      "0.7306117353308366 0.7025717852684145\n",
      "0.7328589263420724 0.6980524344569288\n",
      "0.7294881398252184 0.7036828963795256\n",
      "0.7351061173533084 0.7059425717852683\n",
      "0.7328589263420724 0.7059425717852683\n",
      "0.7362421972534332 0.7025593008739075\n",
      "0.7283770287141074 0.7003245942571784\n",
      "0.7328714107365792 0.6991885143570538\n",
      "0.7294881398252185 0.7014481897627964\n",
      "0.7306242197253432 0.6969538077403246\n",
      "0.7306242197253432 0.6890886392009986\n",
      "0.7317478152309613 0.6924469413233457\n",
      "0.7317478152309613 0.6935830212234707\n",
      "0.7295006242197253 0.6947066167290886\n",
      "0.7261298377028714 0.6890886392009988\n",
      "0.7261298377028714 0.6913358302122348\n",
      "0.7272284644194758 0.6924594257178528\n",
      "0.7238826466916354 0.6879775280898877\n",
      "0.7250062421972535 0.6913358302122348\n",
      "0.7272409488139825 0.6846067415730337\n",
      "0.7238701622971286 0.6846192259675405\n",
      "0.7249937578027467 0.6812359550561798\n",
      "0.7238951310861423 0.6834706616729089\n",
      "0.7261423220973784 0.6778776529338327\n",
      "0.7250187265917603 0.6812234706616729\n",
      "0.7250187265917603 0.6812484394506867\n",
      "0.7261298377028714 0.6767415730337079\n",
      "0.7261423220973784 0.6801373283395755\n",
      "0.7250187265917603 0.6823595505617976\n",
      "0.7283895131086142 0.6778776529338327\n",
      "0.7261423220973784 0.6789887640449438\n",
      "0.7261423220973782 0.6745068664169789\n",
      "0.7238951310861423 0.6801373283395755\n",
      "0.7227715355805243 0.6756304619225968\n",
      "0.7238951310861423 0.6733957553058676\n",
      "0.7272659176029963 0.6778776529338327\n",
      "0.7272659176029963 0.6812359550561797\n",
      "0.7284019975031211 0.6823720349563046\n",
      "0.7250187265917603 0.6778776529338327\n",
      "0.7238951310861423 0.6767665418227217\n",
      "0.7227715355805244 0.6835081148564294\n",
      "0.7216479400749064 0.6801373283395755\n",
      "0.7227715355805244 0.6846192259675405\n",
      "0.7238951310861423 0.6823720349563047\n",
      "0.7250187265917603 0.6767540574282147\n",
      "0.7216479400749065 0.6812484394506866\n",
      "0.7227715355805244 0.6778776529338326\n",
      "0.7216479400749064 0.6745068664169789\n",
      "0.7194007490636705 0.6823720349563047\n",
      "0.7216479400749064 0.6790137328339576\n",
      "0.7216479400749064 0.6733957553058676\n",
      "0.7216479400749064 0.6756429463171038\n",
      "0.7227715355805244 0.6655430711610486\n",
      "0.7227715355805244 0.6700374531835205\n",
      "0.7238951310861423 0.6666666666666666\n",
      "0.7250187265917603 0.6756429463171036\n",
      "0.7227715355805244 0.6734207240948813\n",
      "0.7238951310861423 0.6778901373283397\n",
      "0.7238951310861423 0.6734082397003746\n",
      "0.7238951310861423 0.6756554307116105\n",
      "0.7238951310861423 0.6756554307116105\n",
      "0.7238951310861423 0.6734207240948814\n",
      "0.7238951310861423 0.6700374531835205\n",
      "0.7238951310861423 0.6722846441947564\n",
      "0.7227840199750312 0.6756554307116105\n",
      "0.7239076154806492 0.6790387016229712\n",
      "0.7239076154806492 0.6722971285892634\n",
      "0.7250312109862672 0.6722971285892634\n",
      "0.7250312109862671 0.6711610486891386\n",
      "0.7261548064918851 0.6711610486891385\n",
      "0.7250312109862671 0.6689138576779027\n",
      "0.7250312109862671 0.6711610486891385\n",
      "0.7216604244694133 0.6666666666666667\n"
     ]
    }
   ],
   "source": [
    "for k in range (1,101):\n",
    "    print(cross_validate(exe_data_features,exe_data_target,KNeighborsClassifier(k, weights = 'distance'),10,0),\n",
    "         cross_validate(exe_data_features,exe_data_target,KNeighborsClassifier(k, weights = 'uniform'),10,0))"
   ]
  },
  {
   "cell_type": "markdown",
   "metadata": {},
   "source": [
    "### Bonus: Create a DataFrame with columns for different values of k neighbors and the corresponding scores for both uniform and distance weighted models.  Determine which model has the best performance"
   ]
  },
  {
   "cell_type": "code",
   "execution_count": 80,
   "metadata": {},
   "outputs": [
    {
     "ename": "SyntaxError",
     "evalue": "positional argument follows keyword argument (<ipython-input-80-55d728205f18>, line 1)",
     "output_type": "error",
     "traceback": [
      "\u001b[0;36m  File \u001b[0;32m\"<ipython-input-80-55d728205f18>\"\u001b[0;36m, line \u001b[0;32m1\u001b[0m\n\u001b[0;31m    results = pd.DataFrame(columns = 'k_values', 'd_accuracy', 'u_accuracy')\u001b[0m\n\u001b[0m                                                 ^\u001b[0m\n\u001b[0;31mSyntaxError\u001b[0m\u001b[0;31m:\u001b[0m positional argument follows keyword argument\n"
     ]
    }
   ],
   "source": [
    "results = pd.DataFrame(columns = 'k_values', 'd_accuracy', 'u_accuracy')"
   ]
  },
  {
   "cell_type": "markdown",
   "metadata": {},
   "source": [
    "## Data Normalization"
   ]
  },
  {
   "cell_type": "markdown",
   "metadata": {},
   "source": [
    "Calculate the mean and standard deviation"
   ]
  },
  {
   "cell_type": "code",
   "execution_count": 81,
   "metadata": {},
   "outputs": [],
   "source": [
    "avg_age = exe_data.Age_all.mean()\n",
    "stdev_age = exe_data.Age_all.std()"
   ]
  },
  {
   "cell_type": "code",
   "execution_count": 82,
   "metadata": {},
   "outputs": [
    {
     "data": {
      "text/html": [
       "<div>\n",
       "<style scoped>\n",
       "    .dataframe tbody tr th:only-of-type {\n",
       "        vertical-align: middle;\n",
       "    }\n",
       "\n",
       "    .dataframe tbody tr th {\n",
       "        vertical-align: top;\n",
       "    }\n",
       "\n",
       "    .dataframe thead th {\n",
       "        text-align: right;\n",
       "    }\n",
       "</style>\n",
       "<table border=\"1\" class=\"dataframe\">\n",
       "  <thead>\n",
       "    <tr style=\"text-align: right;\">\n",
       "      <th></th>\n",
       "      <th>PassengerId</th>\n",
       "      <th>Survived</th>\n",
       "      <th>Pclass</th>\n",
       "      <th>Name</th>\n",
       "      <th>Sex</th>\n",
       "      <th>Age</th>\n",
       "      <th>SibSp</th>\n",
       "      <th>Parch</th>\n",
       "      <th>Ticket</th>\n",
       "      <th>Fare</th>\n",
       "      <th>...</th>\n",
       "      <th>Embarked</th>\n",
       "      <th>Is_female</th>\n",
       "      <th>Embarked_C</th>\n",
       "      <th>Embarked_Q</th>\n",
       "      <th>Embarked_S</th>\n",
       "      <th>Title</th>\n",
       "      <th>Age_all</th>\n",
       "      <th>Age_sex</th>\n",
       "      <th>Age_norm</th>\n",
       "      <th>Fare_norm</th>\n",
       "    </tr>\n",
       "  </thead>\n",
       "  <tbody>\n",
       "    <tr>\n",
       "      <th>5</th>\n",
       "      <td>6</td>\n",
       "      <td>0</td>\n",
       "      <td>3</td>\n",
       "      <td>Moran, Mr. James</td>\n",
       "      <td>male</td>\n",
       "      <td>NaN</td>\n",
       "      <td>0</td>\n",
       "      <td>0</td>\n",
       "      <td>330877</td>\n",
       "      <td>8.4583</td>\n",
       "      <td>...</td>\n",
       "      <td>Q</td>\n",
       "      <td>False</td>\n",
       "      <td>0</td>\n",
       "      <td>1</td>\n",
       "      <td>0</td>\n",
       "      <td>Mr</td>\n",
       "      <td>29.699118</td>\n",
       "      <td>30.726645</td>\n",
       "      <td>0.0</td>\n",
       "      <td>-0.477848</td>\n",
       "    </tr>\n",
       "    <tr>\n",
       "      <th>17</th>\n",
       "      <td>18</td>\n",
       "      <td>1</td>\n",
       "      <td>2</td>\n",
       "      <td>Williams, Mr. Charles Eugene</td>\n",
       "      <td>male</td>\n",
       "      <td>NaN</td>\n",
       "      <td>0</td>\n",
       "      <td>0</td>\n",
       "      <td>244373</td>\n",
       "      <td>13.0000</td>\n",
       "      <td>...</td>\n",
       "      <td>S</td>\n",
       "      <td>False</td>\n",
       "      <td>0</td>\n",
       "      <td>0</td>\n",
       "      <td>1</td>\n",
       "      <td>Mr</td>\n",
       "      <td>29.699118</td>\n",
       "      <td>30.726645</td>\n",
       "      <td>0.0</td>\n",
       "      <td>-0.386454</td>\n",
       "    </tr>\n",
       "    <tr>\n",
       "      <th>19</th>\n",
       "      <td>20</td>\n",
       "      <td>1</td>\n",
       "      <td>3</td>\n",
       "      <td>Masselmani, Mrs. Fatima</td>\n",
       "      <td>female</td>\n",
       "      <td>NaN</td>\n",
       "      <td>0</td>\n",
       "      <td>0</td>\n",
       "      <td>2649</td>\n",
       "      <td>7.2250</td>\n",
       "      <td>...</td>\n",
       "      <td>C</td>\n",
       "      <td>True</td>\n",
       "      <td>1</td>\n",
       "      <td>0</td>\n",
       "      <td>0</td>\n",
       "      <td>Mrs</td>\n",
       "      <td>29.699118</td>\n",
       "      <td>27.915709</td>\n",
       "      <td>0.0</td>\n",
       "      <td>-0.502666</td>\n",
       "    </tr>\n",
       "    <tr>\n",
       "      <th>26</th>\n",
       "      <td>27</td>\n",
       "      <td>0</td>\n",
       "      <td>3</td>\n",
       "      <td>Emir, Mr. Farred Chehab</td>\n",
       "      <td>male</td>\n",
       "      <td>NaN</td>\n",
       "      <td>0</td>\n",
       "      <td>0</td>\n",
       "      <td>2631</td>\n",
       "      <td>7.2250</td>\n",
       "      <td>...</td>\n",
       "      <td>C</td>\n",
       "      <td>False</td>\n",
       "      <td>1</td>\n",
       "      <td>0</td>\n",
       "      <td>0</td>\n",
       "      <td>Mr</td>\n",
       "      <td>29.699118</td>\n",
       "      <td>30.726645</td>\n",
       "      <td>0.0</td>\n",
       "      <td>-0.502666</td>\n",
       "    </tr>\n",
       "    <tr>\n",
       "      <th>28</th>\n",
       "      <td>29</td>\n",
       "      <td>1</td>\n",
       "      <td>3</td>\n",
       "      <td>O'Dwyer, Miss. Ellen \"Nellie\"</td>\n",
       "      <td>female</td>\n",
       "      <td>NaN</td>\n",
       "      <td>0</td>\n",
       "      <td>0</td>\n",
       "      <td>330959</td>\n",
       "      <td>7.8792</td>\n",
       "      <td>...</td>\n",
       "      <td>Q</td>\n",
       "      <td>True</td>\n",
       "      <td>0</td>\n",
       "      <td>1</td>\n",
       "      <td>0</td>\n",
       "      <td>Miss</td>\n",
       "      <td>29.699118</td>\n",
       "      <td>27.915709</td>\n",
       "      <td>0.0</td>\n",
       "      <td>-0.489502</td>\n",
       "    </tr>\n",
       "  </tbody>\n",
       "</table>\n",
       "<p>5 rows × 21 columns</p>\n",
       "</div>"
      ],
      "text/plain": [
       "    PassengerId  Survived  Pclass                           Name     Sex  Age  \\\n",
       "5             6         0       3               Moran, Mr. James    male  NaN   \n",
       "17           18         1       2   Williams, Mr. Charles Eugene    male  NaN   \n",
       "19           20         1       3        Masselmani, Mrs. Fatima  female  NaN   \n",
       "26           27         0       3        Emir, Mr. Farred Chehab    male  NaN   \n",
       "28           29         1       3  O'Dwyer, Miss. Ellen \"Nellie\"  female  NaN   \n",
       "\n",
       "    SibSp  Parch  Ticket     Fare  ... Embarked Is_female  Embarked_C  \\\n",
       "5       0      0  330877   8.4583  ...        Q     False           0   \n",
       "17      0      0  244373  13.0000  ...        S     False           0   \n",
       "19      0      0    2649   7.2250  ...        C      True           1   \n",
       "26      0      0    2631   7.2250  ...        C     False           1   \n",
       "28      0      0  330959   7.8792  ...        Q      True           0   \n",
       "\n",
       "    Embarked_Q  Embarked_S  Title    Age_all    Age_sex  Age_norm  Fare_norm  \n",
       "5            1           0     Mr  29.699118  30.726645       0.0  -0.477848  \n",
       "17           0           1     Mr  29.699118  30.726645       0.0  -0.386454  \n",
       "19           0           0    Mrs  29.699118  27.915709       0.0  -0.502666  \n",
       "26           0           0     Mr  29.699118  30.726645       0.0  -0.502666  \n",
       "28           1           0   Miss  29.699118  27.915709       0.0  -0.489502  \n",
       "\n",
       "[5 rows x 21 columns]"
      ]
     },
     "execution_count": 82,
     "metadata": {},
     "output_type": "execute_result"
    }
   ],
   "source": [
    "exe_data[exe_data['Age'] != exe_data['Age_all']].head()"
   ]
  },
  {
   "cell_type": "code",
   "execution_count": 83,
   "metadata": {},
   "outputs": [],
   "source": [
    "avg_fare = exe_data.Fare.mean()\n",
    "stdv_fare = exe_data.Fare.std()"
   ]
  },
  {
   "cell_type": "markdown",
   "metadata": {},
   "source": [
    "Subtract the mean and divide by the standard deviation"
   ]
  },
  {
   "cell_type": "code",
   "execution_count": 84,
   "metadata": {},
   "outputs": [],
   "source": [
    "exe_data['Age_norm'] = (exe_data.Age_all - avg_age)/stdev_age\n",
    "exe_data['Fare_norm'] = (exe_data.Fare - avg_fare)/stdv_fare\n"
   ]
  },
  {
   "cell_type": "markdown",
   "metadata": {},
   "source": [
    "Create new features using normalized data"
   ]
  },
  {
   "cell_type": "code",
   "execution_count": 85,
   "metadata": {},
   "outputs": [],
   "source": [
    "features_norm = exe_data[['Age_norm', 'Is_female', 'Pclass', 'Embarked_C', 'Embarked_Q', 'Embarked_S', 'Fare_norm']].values"
   ]
  },
  {
   "cell_type": "markdown",
   "metadata": {},
   "source": [
    "Test KNN on normalized data"
   ]
  },
  {
   "cell_type": "code",
   "execution_count": 86,
   "metadata": {},
   "outputs": [
    {
     "name": "stdout",
     "output_type": "stream",
     "text": [
      "0.6779275905118602 0.7677153558052434\n",
      "0.6846566791510612 0.7800624219725343\n",
      "0.709350811485643 0.8024968789013732\n",
      "0.7015106117353309 0.8013732833957554\n",
      "0.7104868913857677 0.8047440699126092\n",
      "0.7082147315855181 0.8024843945068664\n",
      "0.7138451935081148 0.8125967540574284\n",
      "0.7272534332084893 0.8024843945068664\n",
      "0.7283895131086141 0.8058551810237203\n",
      "0.7261298377028714 0.8036079900124845\n",
      "0.7227715355805244 0.8058551810237203\n",
      "0.7227590511860176 0.8013483146067417\n",
      "0.7182771535580524 0.8024843945068664\n",
      "0.7272659176029963 0.8024719101123596\n",
      "0.7216354556803996 0.8013483146067415\n",
      "0.7227840199750313 0.8013483146067417\n",
      "0.7160424469413234 0.7991011235955057\n",
      "0.7250312109862672 0.7968539325842697\n",
      "0.7261423220973782 0.8002247191011236\n",
      "0.7216479400749063 0.7991136079900125\n",
      "0.7238701622971286 0.7979900124843946\n",
      "0.7261173533083645 0.7991136079900125\n",
      "0.7283520599250937 0.8013607990012483\n",
      "0.7261298377028714 0.7991136079900125\n",
      "0.7317103620474408 0.8013607990012485\n",
      "0.7328339575530587 0.8013607990012485\n",
      "0.7362047440699128 0.8002372034956304\n",
      "0.7306117353308366 0.8036079900124843\n",
      "0.7328589263420724 0.8002372034956305\n",
      "0.7294881398252184 0.8013607990012485\n",
      "0.7351061173533084 0.8002372034956305\n",
      "0.7328589263420724 0.7991136079900125\n",
      "0.7362421972534332 0.8024843945068664\n",
      "0.7283770287141074 0.8036079900124843\n",
      "0.7328714107365792 0.7991136079900125\n",
      "0.7294881398252185 0.8002372034956304\n",
      "0.7306242197253432 0.7991136079900125\n",
      "0.7306242197253432 0.7968664169787766\n",
      "0.7317478152309613 0.7968664169787766\n",
      "0.7317478152309613 0.7991136079900125\n",
      "0.7295006242197253 0.8013607990012485\n",
      "0.7261298377028714 0.8013607990012485\n",
      "0.7261298377028714 0.7991136079900125\n",
      "0.7272284644194758 0.8013607990012485\n",
      "0.7238826466916354 0.7991136079900125\n",
      "0.7250062421972535 0.8013607990012485\n",
      "0.7272409488139825 0.8024843945068664\n",
      "0.7238701622971286 0.8024843945068664\n",
      "0.7249937578027467 0.8047315855181024\n",
      "0.7238951310861423 0.8036079900124843\n",
      "0.7261423220973784 0.8036079900124843\n",
      "0.7250187265917603 0.8035955056179775\n",
      "0.7250187265917603 0.8024843945068664\n",
      "0.7261298377028714 0.8047191011235956\n",
      "0.7261423220973784 0.8035955056179775\n",
      "0.7250187265917603 0.8024719101123596\n",
      "0.7283895131086142 0.8035955056179775\n",
      "0.7261423220973784 0.8013483146067415\n",
      "0.7261423220973782 0.8035955056179775\n",
      "0.7238951310861423 0.8035955056179775\n",
      "0.7227715355805243 0.8035955056179775\n",
      "0.7238951310861423 0.8013483146067415\n",
      "0.7272659176029963 0.8024719101123596\n",
      "0.7272659176029963 0.8013483146067415\n",
      "0.7284019975031211 0.8013483146067415\n",
      "0.7250187265917603 0.8024719101123596\n",
      "0.7238951310861423 0.8035955056179775\n",
      "0.7227715355805244 0.8024719101123596\n",
      "0.7216479400749064 0.8035955056179775\n",
      "0.7227715355805244 0.8035955056179775\n",
      "0.7238951310861423 0.8047066167290886\n",
      "0.7250187265917603 0.8035955056179775\n",
      "0.7216479400749065 0.8035955056179775\n",
      "0.7227715355805244 0.8047191011235956\n",
      "0.7216479400749064 0.8058426966292135\n",
      "0.7194007490636705 0.8047191011235955\n",
      "0.7216479400749064 0.8069538077403247\n",
      "0.7216479400749064 0.8058302122347065\n",
      "0.7216479400749064 0.8058302122347065\n",
      "0.7227715355805244 0.8047191011235955\n",
      "0.7227715355805244 0.8047191011235955\n",
      "0.7238951310861423 0.8058426966292135\n",
      "0.7250187265917603 0.8058426966292135\n",
      "0.7227715355805244 0.8058426966292135\n",
      "0.7238951310861423 0.8080898876404495\n",
      "0.7238951310861423 0.8080898876404495\n",
      "0.7238951310861423 0.8080898876404495\n",
      "0.7238951310861423 0.8069787765293382\n",
      "0.7238951310861423 0.8081023720349563\n",
      "0.7238951310861423 0.8069787765293382\n",
      "0.7238951310861423 0.8069787765293382\n",
      "0.7227840199750312 0.8069787765293382\n",
      "0.7239076154806492 0.8081023720349563\n",
      "0.7239076154806492 0.8069787765293382\n",
      "0.7250312109862672 0.8069787765293382\n",
      "0.7250312109862671 0.8069787765293382\n",
      "0.7261548064918851 0.8069787765293382\n",
      "0.7250312109862671 0.8069787765293382\n",
      "0.7250312109862671 0.8092259675405742\n",
      "0.7216604244694133 0.8081023720349563\n"
     ]
    }
   ],
   "source": [
    "for k in range (1,101):\n",
    "    print(cross_validate(exe_data_features,exe_data_target,KNeighborsClassifier(k, weights = 'distance'),10,0),\n",
    "         cross_validate(features_norm,exe_data_target,KNeighborsClassifier(k, weights = 'distance'),10,0))"
   ]
  },
  {
   "cell_type": "markdown",
   "metadata": {},
   "source": [
    "## Random Forest"
   ]
  },
  {
   "cell_type": "markdown",
   "metadata": {},
   "source": [
    "Import the Random Forest function"
   ]
  },
  {
   "cell_type": "code",
   "execution_count": 87,
   "metadata": {},
   "outputs": [],
   "source": [
    "from sklearn.ensemble import RandomForestClassifier"
   ]
  },
  {
   "cell_type": "markdown",
   "metadata": {},
   "source": [
    "Create an instance of a random forest classifier.  Random state is used to set random number generator for reproducible results"
   ]
  },
  {
   "cell_type": "code",
   "execution_count": 88,
   "metadata": {},
   "outputs": [],
   "source": [
    "model = RandomForestClassifier(30, random_state = 2)"
   ]
  },
  {
   "cell_type": "markdown",
   "metadata": {},
   "source": [
    "Run the cross-validation function using the Random Forest algorithm"
   ]
  },
  {
   "cell_type": "code",
   "execution_count": 89,
   "metadata": {},
   "outputs": [
    {
     "data": {
      "text/plain": [
       "0.8080898876404493"
      ]
     },
     "execution_count": 89,
     "metadata": {},
     "output_type": "execute_result"
    }
   ],
   "source": [
    "cross_validate(features_norm,exe_data_target,model,10,0)"
   ]
  },
  {
   "cell_type": "markdown",
   "metadata": {},
   "source": [
    "Investigate feature importances"
   ]
  },
  {
   "cell_type": "code",
   "execution_count": 90,
   "metadata": {},
   "outputs": [
    {
     "data": {
      "text/plain": [
       "array([0.28853271, 0.27865361, 0.09638645, 0.01081777, 0.008052  ,\n",
       "       0.01388902, 0.30366844])"
      ]
     },
     "execution_count": 90,
     "metadata": {},
     "output_type": "execute_result"
    }
   ],
   "source": [
    "model.fit(features_norm, exe_data_target).feature_importances_"
   ]
  },
  {
   "cell_type": "markdown",
   "metadata": {},
   "source": [
    "### Make a Prediction for Kaggle"
   ]
  },
  {
   "cell_type": "markdown",
   "metadata": {},
   "source": [
    "Train the model using the best data available (in the case of the Titanic you'll use all the data)"
   ]
  },
  {
   "cell_type": "code",
   "execution_count": 91,
   "metadata": {},
   "outputs": [],
   "source": [
    "model=RandomForestClassifier(30,random_state=None).fit(features_norm,exe_data_target)"
   ]
  },
  {
   "cell_type": "markdown",
   "metadata": {},
   "source": [
    "Create a DataFrame with the test.csv data"
   ]
  },
  {
   "cell_type": "code",
   "execution_count": 92,
   "metadata": {},
   "outputs": [
    {
     "name": "stdout",
     "output_type": "stream",
     "text": [
      "<class 'pandas.core.frame.DataFrame'>\n",
      "RangeIndex: 418 entries, 0 to 417\n",
      "Data columns (total 11 columns):\n",
      " #   Column       Non-Null Count  Dtype  \n",
      "---  ------       --------------  -----  \n",
      " 0   PassengerId  418 non-null    int64  \n",
      " 1   Pclass       418 non-null    int64  \n",
      " 2   Name         418 non-null    object \n",
      " 3   Sex          418 non-null    object \n",
      " 4   Age          332 non-null    float64\n",
      " 5   SibSp        418 non-null    int64  \n",
      " 6   Parch        418 non-null    int64  \n",
      " 7   Ticket       418 non-null    object \n",
      " 8   Fare         417 non-null    float64\n",
      " 9   Cabin        91 non-null     object \n",
      " 10  Embarked     418 non-null    object \n",
      "dtypes: float64(2), int64(4), object(5)\n",
      "memory usage: 36.0+ KB\n",
      "   PassengerId  Pclass                                          Name     Sex  \\\n",
      "0          892       3                              Kelly, Mr. James    male   \n",
      "1          893       3              Wilkes, Mrs. James (Ellen Needs)  female   \n",
      "2          894       2                     Myles, Mr. Thomas Francis    male   \n",
      "3          895       3                              Wirz, Mr. Albert    male   \n",
      "4          896       3  Hirvonen, Mrs. Alexander (Helga E Lindqvist)  female   \n",
      "\n",
      "    Age  SibSp  Parch   Ticket     Fare Cabin Embarked  \n",
      "0  34.5      0      0   330911   7.8292   NaN        Q  \n",
      "1  47.0      1      0   363272   7.0000   NaN        S  \n",
      "2  62.0      0      0   240276   9.6875   NaN        Q  \n",
      "3  27.0      0      0   315154   8.6625   NaN        S  \n",
      "4  22.0      1      1  3101298  12.2875   NaN        S  \n",
      "       PassengerId      Pclass         Age       SibSp       Parch        Fare\n",
      "count   418.000000  418.000000  332.000000  418.000000  418.000000  417.000000\n",
      "mean   1100.500000    2.265550   30.272590    0.447368    0.392344   35.627188\n",
      "std     120.810458    0.841838   14.181209    0.896760    0.981429   55.907576\n",
      "min     892.000000    1.000000    0.170000    0.000000    0.000000    0.000000\n",
      "25%     996.250000    1.000000   21.000000    0.000000    0.000000    7.895800\n",
      "50%    1100.500000    3.000000   27.000000    0.000000    0.000000   14.454200\n",
      "75%    1204.750000    3.000000   39.000000    1.000000    0.000000   31.500000\n",
      "max    1309.000000    3.000000   76.000000    8.000000    9.000000  512.329200\n"
     ]
    }
   ],
   "source": [
    "test_data\t=\tpd.read_csv('test.csv')\t\n",
    "test_data.info()\t\n",
    "print(test_data.head())\t\n",
    "print(test_data.describe())"
   ]
  },
  {
   "cell_type": "markdown",
   "metadata": {},
   "source": [
    "Clean text and missing age values"
   ]
  },
  {
   "cell_type": "code",
   "execution_count": 93,
   "metadata": {},
   "outputs": [],
   "source": [
    "test_data['Is_female']\t=\ttest_data.Sex.replace(['female','male'],[True,False])\n",
    "test_data['Age_all']\t=\ttest_data.Age.fillna(avg_age)"
   ]
  },
  {
   "cell_type": "markdown",
   "metadata": {},
   "source": [
    "Convert Embarked to dummies and merge to data"
   ]
  },
  {
   "cell_type": "code",
   "execution_count": 94,
   "metadata": {},
   "outputs": [],
   "source": [
    "embarked\t=\tpd.get_dummies(test_data.Embarked,\t\t\n",
    "\t\t\t\t\t\t\t\t\t\t\t\t\t\t\t\t\t\t\t\t\t\t\t\t\t\t\t\t\t\t\t\t\t\t\t\t\t\t\t\t\t\t\t\t\t\t\tprefix\t=\t'Embarked')\t\n",
    "test_data\t=\tpd.merge(test_data,\tembarked,\t\t\n",
    "\t\t\t\t\t\t\t\t\t\t\t\t\t\t\t\t\t\t\t\t\t\t\t\t\t\t\t\t\t\t\t\tleft_index=True,\tright_index=True)"
   ]
  },
  {
   "cell_type": "markdown",
   "metadata": {},
   "source": [
    "Clean missing fare values"
   ]
  },
  {
   "cell_type": "code",
   "execution_count": 95,
   "metadata": {},
   "outputs": [],
   "source": [
    "test_data.Fare.fillna(avg_fare,inplace=True)"
   ]
  },
  {
   "cell_type": "markdown",
   "metadata": {},
   "source": [
    "Select features from test data and convert to numpy array"
   ]
  },
  {
   "cell_type": "code",
   "execution_count": 96,
   "metadata": {},
   "outputs": [],
   "source": [
    "test_features\t=\ttest_data[['Age_all',\t'Is_female',\t\t\n",
    "\t\t\t\t\t\t\t\t\t\t\t\t\t'Pclass',\t'Embarked_C',\t'Embarked_Q',\t\t\n",
    "\t\t\t\t\t\t\t\t\t\t\t\t\t'Embarked_S',\t'Fare']].values"
   ]
  },
  {
   "cell_type": "markdown",
   "metadata": {},
   "source": [
    "Create predictions"
   ]
  },
  {
   "cell_type": "code",
   "execution_count": 97,
   "metadata": {},
   "outputs": [],
   "source": [
    "predictions\t=\t\tmodel.predict(test_features)"
   ]
  },
  {
   "cell_type": "markdown",
   "metadata": {},
   "source": [
    "Add Predictions as new column in DataFrame"
   ]
  },
  {
   "cell_type": "code",
   "execution_count": 98,
   "metadata": {},
   "outputs": [],
   "source": [
    "test_data['Survived']\t=\tpredictions"
   ]
  },
  {
   "cell_type": "markdown",
   "metadata": {},
   "source": [
    "Save as CSV (make sure you set index=False)"
   ]
  },
  {
   "cell_type": "code",
   "execution_count": 99,
   "metadata": {},
   "outputs": [],
   "source": [
    "kaggle\t=\ttest_data[['PassengerId','Survived']]\t\n",
    "kaggle.to_csv('kaggle_titanic_submission.csv',\t\t\n",
    "\t\t\t\t\t\t\t\t\t\t\t\t\t\t\t\t\t\t\t\t\t\t\t\t\t\tindex=False)"
   ]
  },
  {
   "cell_type": "code",
   "execution_count": null,
   "metadata": {},
   "outputs": [],
   "source": []
  }
 ],
 "metadata": {
  "anaconda-cloud": {},
  "kernelspec": {
   "display_name": "Python 3",
   "language": "python",
   "name": "python3"
  },
  "language_info": {
   "codemirror_mode": {
    "name": "ipython",
    "version": 3
   },
   "file_extension": ".py",
   "mimetype": "text/x-python",
   "name": "python",
   "nbconvert_exporter": "python",
   "pygments_lexer": "ipython3",
   "version": "3.8.3"
  }
 },
 "nbformat": 4,
 "nbformat_minor": 1
}
